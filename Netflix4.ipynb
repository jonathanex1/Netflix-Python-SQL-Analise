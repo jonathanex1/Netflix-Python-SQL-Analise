{
 "cells": [
  {
   "attachments": {
    "netflix_img2.png": {
     "image/png": "[encoded data removed]"
    }
   },
   "cell_type": "markdown",
   "id": "71bf496a",
   "metadata": {},
   "source": [
    "![netflix_img2.png](attachment:netflix_img2.png)"
   ]
  },
  {
   "cell_type": "markdown",
   "id": "ee92dbb5",
   "metadata": {},
   "source": [
    "# Jupyter 4"
   ]
  },
  {
   "cell_type": "markdown",
   "id": "ac910119",
   "metadata": {},
   "source": [
    "# Análise dos Dados e Linguagem SQL"
   ]
  },
  {
   "cell_type": "code",
   "execution_count": 1,
   "id": "6c40f498",
   "metadata": {},
   "outputs": [],
   "source": [
    "!pip install -q ipython-sql"
   ]
  },
  {
   "cell_type": "code",
   "execution_count": 2,
   "id": "29af95dc",
   "metadata": {},
   "outputs": [],
   "source": [
    "import pandas as pd\n",
    "import numpy as np\n",
    "import tratamento_ausentes as ta\n",
    "import sqlite3\n",
    "import matplotlib.pyplot as plt\n",
    "import seaborn as sns\n",
    "\n",
    "%matplotlib inline"
   ]
  },
  {
   "cell_type": "code",
   "execution_count": 3,
   "id": "310eeb45",
   "metadata": {},
   "outputs": [],
   "source": [
    "df = pd.read_csv('netflix_dfv3.csv', sep = ',')"
   ]
  },
  {
   "cell_type": "code",
   "execution_count": 4,
   "id": "23e0b326",
   "metadata": {},
   "outputs": [],
   "source": [
    "# Criando o banco de dados vazio\n",
    "\n",
    "bd = sqlite3.connect('database/dbnetflix.db')"
   ]
  },
  {
   "cell_type": "code",
   "execution_count": 5,
   "id": "ba5707ee",
   "metadata": {},
   "outputs": [],
   "source": [
    "# Atribuindo nosso dataframe ao banco de dados\n",
    "\n",
    "df.to_sql('TB_netflix', bd)"
   ]
  },
  {
   "cell_type": "code",
   "execution_count": 6,
   "id": "da1c2f9c",
   "metadata": {},
   "outputs": [],
   "source": [
    "# Carregando a extensão SQL\n",
    "\n",
    "%load_ext sql"
   ]
  },
  {
   "cell_type": "code",
   "execution_count": 7,
   "id": "299994c6",
   "metadata": {},
   "outputs": [],
   "source": [
    "# Definindo o BD\n",
    "\n",
    "%sql sqlite:///database/dbnetflix.db"
   ]
  },
  {
   "cell_type": "markdown",
   "id": "f84b970c",
   "metadata": {},
   "source": [
    "<blockquote> Utilizando Consultas SQL </blockquote>"
   ]
  },
  {
   "cell_type": "code",
   "execution_count": 8,
   "id": "0c37efdb",
   "metadata": {},
   "outputs": [
    {
     "data": {
      "text/html": [
       "<div>\n",
       "<style scoped>\n",
       "    .dataframe tbody tr th:only-of-type {\n",
       "        vertical-align: middle;\n",
       "    }\n",
       "\n",
       "    .dataframe tbody tr th {\n",
       "        vertical-align: top;\n",
       "    }\n",
       "\n",
       "    .dataframe thead th {\n",
       "        text-align: right;\n",
       "    }\n",
       "</style>\n",
       "<table border=\"1\" class=\"dataframe\">\n",
       "  <thead>\n",
       "    <tr style=\"text-align: right;\">\n",
       "      <th></th>\n",
       "      <th>type</th>\n",
       "      <th>title</th>\n",
       "      <th>director</th>\n",
       "      <th>cast</th>\n",
       "      <th>country</th>\n",
       "      <th>release_year</th>\n",
       "      <th>rating</th>\n",
       "      <th>duration</th>\n",
       "      <th>listed_in</th>\n",
       "      <th>description</th>\n",
       "      <th>month_added</th>\n",
       "      <th>day_added</th>\n",
       "      <th>year_added</th>\n",
       "      <th>qtd_seasons</th>\n",
       "    </tr>\n",
       "  </thead>\n",
       "  <tbody>\n",
       "    <tr>\n",
       "      <th>0</th>\n",
       "      <td>Movie</td>\n",
       "      <td>Dick Johnson Is Dead</td>\n",
       "      <td>Kirsten Johnson</td>\n",
       "      <td>Not Available</td>\n",
       "      <td>United States</td>\n",
       "      <td>2020</td>\n",
       "      <td>PG-13</td>\n",
       "      <td>90</td>\n",
       "      <td>Documentaries</td>\n",
       "      <td>As her father nears the end of his life, filmm...</td>\n",
       "      <td>September</td>\n",
       "      <td>25</td>\n",
       "      <td>2021</td>\n",
       "      <td>0</td>\n",
       "    </tr>\n",
       "    <tr>\n",
       "      <th>1</th>\n",
       "      <td>TV Show</td>\n",
       "      <td>Blood &amp; Water</td>\n",
       "      <td>Not Available</td>\n",
       "      <td>Ama Qamata, Khosi Ngema, Gail Mabalane, Thaban...</td>\n",
       "      <td>South Africa</td>\n",
       "      <td>2021</td>\n",
       "      <td>TV-MA</td>\n",
       "      <td>0</td>\n",
       "      <td>International TV Shows, TV Dramas, TV Mysteries</td>\n",
       "      <td>After crossing paths at a party, a Cape Town t...</td>\n",
       "      <td>September</td>\n",
       "      <td>24</td>\n",
       "      <td>2021</td>\n",
       "      <td>2</td>\n",
       "    </tr>\n",
       "    <tr>\n",
       "      <th>2</th>\n",
       "      <td>TV Show</td>\n",
       "      <td>Ganglands</td>\n",
       "      <td>Julien Leclercq</td>\n",
       "      <td>Sami Bouajila, Tracy Gotoas, Samuel Jouy, Nabi...</td>\n",
       "      <td>Not Available</td>\n",
       "      <td>2021</td>\n",
       "      <td>TV-MA</td>\n",
       "      <td>0</td>\n",
       "      <td>Crime TV Shows, International TV Shows, TV Act...</td>\n",
       "      <td>To protect his family from a powerful drug lor...</td>\n",
       "      <td>September</td>\n",
       "      <td>24</td>\n",
       "      <td>2021</td>\n",
       "      <td>1</td>\n",
       "    </tr>\n",
       "    <tr>\n",
       "      <th>3</th>\n",
       "      <td>TV Show</td>\n",
       "      <td>Jailbirds New Orleans</td>\n",
       "      <td>Not Available</td>\n",
       "      <td>Not Available</td>\n",
       "      <td>Not Available</td>\n",
       "      <td>2021</td>\n",
       "      <td>TV-MA</td>\n",
       "      <td>0</td>\n",
       "      <td>Docuseries, Reality TV</td>\n",
       "      <td>Feuds, flirtations and toilet talk go down amo...</td>\n",
       "      <td>September</td>\n",
       "      <td>24</td>\n",
       "      <td>2021</td>\n",
       "      <td>1</td>\n",
       "    </tr>\n",
       "    <tr>\n",
       "      <th>4</th>\n",
       "      <td>TV Show</td>\n",
       "      <td>Kota Factory</td>\n",
       "      <td>Not Available</td>\n",
       "      <td>Mayur More, Jitendra Kumar, Ranjan Raj, Alam K...</td>\n",
       "      <td>India</td>\n",
       "      <td>2021</td>\n",
       "      <td>TV-MA</td>\n",
       "      <td>0</td>\n",
       "      <td>International TV Shows, Romantic TV Shows, TV ...</td>\n",
       "      <td>In a city of coaching centers known to train I...</td>\n",
       "      <td>September</td>\n",
       "      <td>24</td>\n",
       "      <td>2021</td>\n",
       "      <td>2</td>\n",
       "    </tr>\n",
       "  </tbody>\n",
       "</table>\n",
       "</div>"
      ],
      "text/plain": [
       "      type                  title         director  \\\n",
       "0    Movie   Dick Johnson Is Dead  Kirsten Johnson   \n",
       "1  TV Show          Blood & Water    Not Available   \n",
       "2  TV Show              Ganglands  Julien Leclercq   \n",
       "3  TV Show  Jailbirds New Orleans    Not Available   \n",
       "4  TV Show           Kota Factory    Not Available   \n",
       "\n",
       "                                                cast        country  \\\n",
       "0                                      Not Available  United States   \n",
       "1  Ama Qamata, Khosi Ngema, Gail Mabalane, Thaban...   South Africa   \n",
       "2  Sami Bouajila, Tracy Gotoas, Samuel Jouy, Nabi...  Not Available   \n",
       "3                                      Not Available  Not Available   \n",
       "4  Mayur More, Jitendra Kumar, Ranjan Raj, Alam K...          India   \n",
       "\n",
       "   release_year rating  duration  \\\n",
       "0          2020  PG-13        90   \n",
       "1          2021  TV-MA         0   \n",
       "2          2021  TV-MA         0   \n",
       "3          2021  TV-MA         0   \n",
       "4          2021  TV-MA         0   \n",
       "\n",
       "                                           listed_in  \\\n",
       "0                                      Documentaries   \n",
       "1    International TV Shows, TV Dramas, TV Mysteries   \n",
       "2  Crime TV Shows, International TV Shows, TV Act...   \n",
       "3                             Docuseries, Reality TV   \n",
       "4  International TV Shows, Romantic TV Shows, TV ...   \n",
       "\n",
       "                                         description month_added  day_added  \\\n",
       "0  As her father nears the end of his life, filmm...   September         25   \n",
       "1  After crossing paths at a party, a Cape Town t...   September         24   \n",
       "2  To protect his family from a powerful drug lor...   September         24   \n",
       "3  Feuds, flirtations and toilet talk go down amo...   September         24   \n",
       "4  In a city of coaching centers known to train I...   September         24   \n",
       "\n",
       "   year_added  qtd_seasons  \n",
       "0        2021            0  \n",
       "1        2021            2  \n",
       "2        2021            1  \n",
       "3        2021            1  \n",
       "4        2021            2  "
      ]
     },
     "execution_count": 8,
     "metadata": {},
     "output_type": "execute_result"
    }
   ],
   "source": [
    "df.head(5)"
   ]
  },
  {
   "cell_type": "markdown",
   "id": "ee4de11c",
   "metadata": {},
   "source": [
    "# Quantos Filmes foram lançados nos Estados Unidos?"
   ]
  },
  {
   "cell_type": "code",
   "execution_count": 9,
   "id": "7083d587",
   "metadata": {},
   "outputs": [
    {
     "name": "stdout",
     "output_type": "stream",
     "text": [
      " * sqlite:///database/dbnetflix.db\n",
      "Done.\n"
     ]
    },
    {
     "data": {
      "text/html": [
       "<table>\n",
       "    <tr>\n",
       "        <th>count(*)</th>\n",
       "    </tr>\n",
       "    <tr>\n",
       "        <td>2752</td>\n",
       "    </tr>\n",
       "</table>"
      ],
      "text/plain": [
       "[(2752,)]"
      ]
     },
     "execution_count": 9,
     "metadata": {},
     "output_type": "execute_result"
    }
   ],
   "source": [
    "%%sql \n",
    "\n",
    "SELECT count(*) FROM TB_netflix \n",
    "Where country like '%United States%'\n",
    "AND type = 'Movie'\n"
   ]
  },
  {
   "cell_type": "code",
   "execution_count": 10,
   "id": "1f760b48",
   "metadata": {},
   "outputs": [
    {
     "name": "stdout",
     "output_type": "stream",
     "text": [
      " * sqlite:///database/dbnetflix.db\n",
      "Done.\n"
     ]
    },
    {
     "data": {
      "text/html": [
       "<table>\n",
       "    <tr>\n",
       "        <th>count(*)</th>\n",
       "    </tr>\n",
       "    <tr>\n",
       "        <td>938</td>\n",
       "    </tr>\n",
       "</table>"
      ],
      "text/plain": [
       "[(938,)]"
      ]
     },
     "execution_count": 10,
     "metadata": {},
     "output_type": "execute_result"
    }
   ],
   "source": [
    "%%sql\n",
    "\n",
    "SELECT count(*) FROM TB_netflix\n",
    "WHERE country like '%United States%'\n",
    "AND type = 'TV Show'"
   ]
  },
  {
   "cell_type": "markdown",
   "id": "425568f3",
   "metadata": {},
   "source": [
    "# Total geral de Movies e TV Shows"
   ]
  },
  {
   "cell_type": "code",
   "execution_count": 11,
   "id": "e53fd376",
   "metadata": {},
   "outputs": [
    {
     "name": "stdout",
     "output_type": "stream",
     "text": [
      " * sqlite:///database/dbnetflix.db\n",
      "Done.\n"
     ]
    },
    {
     "data": {
      "text/html": [
       "<table>\n",
       "    <tr>\n",
       "        <th>count(*)</th>\n",
       "    </tr>\n",
       "    <tr>\n",
       "        <td>2676</td>\n",
       "    </tr>\n",
       "</table>"
      ],
      "text/plain": [
       "[(2676,)]"
      ]
     },
     "execution_count": 11,
     "metadata": {},
     "output_type": "execute_result"
    }
   ],
   "source": [
    "%%sql\n",
    "\n",
    "SELECT count(*) FROM TB_netflix\n",
    "WHERE type = 'TV Show'"
   ]
  },
  {
   "cell_type": "code",
   "execution_count": 12,
   "id": "38f6a1d1",
   "metadata": {},
   "outputs": [
    {
     "name": "stdout",
     "output_type": "stream",
     "text": [
      " * sqlite:///database/dbnetflix.db\n",
      "Done.\n"
     ]
    },
    {
     "data": {
      "text/html": [
       "<table>\n",
       "    <tr>\n",
       "        <th>count(*)</th>\n",
       "    </tr>\n",
       "    <tr>\n",
       "        <td>6131</td>\n",
       "    </tr>\n",
       "</table>"
      ],
      "text/plain": [
       "[(6131,)]"
      ]
     },
     "execution_count": 12,
     "metadata": {},
     "output_type": "execute_result"
    }
   ],
   "source": [
    "%%sql\n",
    "\n",
    "SELECT count(*) FROM TB_netflix\n",
    "WHERE type = 'Movie'"
   ]
  },
  {
   "cell_type": "markdown",
   "id": "c940ff4f",
   "metadata": {},
   "source": [
    "# Quantos Filmes/Tv Shows foram adicionados  na plataforma no dia 25 de Setembro de 2020?"
   ]
  },
  {
   "cell_type": "code",
   "execution_count": 13,
   "id": "69e0e85d",
   "metadata": {},
   "outputs": [
    {
     "name": "stdout",
     "output_type": "stream",
     "text": [
      " * sqlite:///database/dbnetflix.db\n",
      "Done.\n"
     ]
    },
    {
     "data": {
      "text/html": [
       "<table>\n",
       "    <tr>\n",
       "        <th>COUNT(*)</th>\n",
       "    </tr>\n",
       "    <tr>\n",
       "        <td>6</td>\n",
       "    </tr>\n",
       "</table>"
      ],
      "text/plain": [
       "[(6,)]"
      ]
     },
     "execution_count": 13,
     "metadata": {},
     "output_type": "execute_result"
    }
   ],
   "source": [
    "%%sql\n",
    "\n",
    "SELECT COUNT(*) FROM TB_netflix\n",
    "WHERE day_added = 25\n",
    "AND month_added = 'September'\n",
    "AND year_added = 2020\n"
   ]
  },
  {
   "cell_type": "markdown",
   "id": "848ac4b0",
   "metadata": {},
   "source": [
    "# Quantos TV Shows com mais de 3 Temporadas, foram lançados na plataforma?"
   ]
  },
  {
   "cell_type": "code",
   "execution_count": 14,
   "id": "ba642615",
   "metadata": {},
   "outputs": [
    {
     "name": "stdout",
     "output_type": "stream",
     "text": [
      " * sqlite:///database/dbnetflix.db\n",
      "Done.\n"
     ]
    },
    {
     "data": {
      "text/html": [
       "<table>\n",
       "    <tr>\n",
       "        <th>COUNT(*)</th>\n",
       "    </tr>\n",
       "    <tr>\n",
       "        <td>458</td>\n",
       "    </tr>\n",
       "</table>"
      ],
      "text/plain": [
       "[(458,)]"
      ]
     },
     "execution_count": 14,
     "metadata": {},
     "output_type": "execute_result"
    }
   ],
   "source": [
    "%%sql\n",
    "\n",
    "SELECT COUNT(*) FROM TB_netflix\n",
    "WHERE type = 'TV Show'\n",
    "AND qtd_seasons >= 3"
   ]
  },
  {
   "cell_type": "markdown",
   "id": "1d9dbe9d",
   "metadata": {},
   "source": [
    "# Do Total de filmes / tv shows, quantos estão listados como Documentários?"
   ]
  },
  {
   "cell_type": "code",
   "execution_count": 15,
   "id": "fc0f23a6",
   "metadata": {},
   "outputs": [
    {
     "name": "stdout",
     "output_type": "stream",
     "text": [
      " * sqlite:///database/dbnetflix.db\n",
      "Done.\n"
     ]
    },
    {
     "data": {
      "text/html": [
       "<table>\n",
       "    <tr>\n",
       "        <th>COUNT(*)</th>\n",
       "    </tr>\n",
       "    <tr>\n",
       "        <td>869</td>\n",
       "    </tr>\n",
       "</table>"
      ],
      "text/plain": [
       "[(869,)]"
      ]
     },
     "execution_count": 15,
     "metadata": {},
     "output_type": "execute_result"
    }
   ],
   "source": [
    "%%sql\n",
    "\n",
    "SELECT COUNT(*) FROM TB_netflix\n",
    "WHERE listed_in like '%Documentaries%'"
   ]
  },
  {
   "cell_type": "code",
   "execution_count": 16,
   "id": "77a181aa",
   "metadata": {},
   "outputs": [
    {
     "name": "stdout",
     "output_type": "stream",
     "text": [
      " * sqlite:///database/dbnetflix.db\n",
      "Done.\n"
     ]
    },
    {
     "data": {
      "text/html": [
       "<table>\n",
       "    <tr>\n",
       "        <th>index</th>\n",
       "        <th>type</th>\n",
       "        <th>title</th>\n",
       "        <th>director</th>\n",
       "        <th>cast</th>\n",
       "        <th>country</th>\n",
       "        <th>release_year</th>\n",
       "        <th>rating</th>\n",
       "        <th>duration</th>\n",
       "        <th>listed_in</th>\n",
       "        <th>description</th>\n",
       "        <th>month_added</th>\n",
       "        <th>day_added</th>\n",
       "        <th>year_added</th>\n",
       "        <th>qtd_seasons</th>\n",
       "    </tr>\n",
       "    <tr>\n",
       "        <td>0</td>\n",
       "        <td>Movie</td>\n",
       "        <td>Dick Johnson Is Dead</td>\n",
       "        <td>Kirsten Johnson</td>\n",
       "        <td>Not Available</td>\n",
       "        <td>United States</td>\n",
       "        <td>2020</td>\n",
       "        <td>PG-13</td>\n",
       "        <td>90</td>\n",
       "        <td>Documentaries</td>\n",
       "        <td>As her father nears the end of his life, filmmaker Kirsten Johnson stages his death in inventive and comical ways to help them both face the inevitable.</td>\n",
       "        <td>September</td>\n",
       "        <td>25</td>\n",
       "        <td>2021</td>\n",
       "        <td>0</td>\n",
       "    </tr>\n",
       "    <tr>\n",
       "        <td>16</td>\n",
       "        <td>Movie</td>\n",
       "        <td>Europe&#x27;s Most Dangerous Man: Otto Skorzeny in Spain</td>\n",
       "        <td>Pedro de Echave García, Pablo Azorín Williams</td>\n",
       "        <td>Not Available</td>\n",
       "        <td>Not Available</td>\n",
       "        <td>2020</td>\n",
       "        <td>TV-MA</td>\n",
       "        <td>67</td>\n",
       "        <td>Documentaries, International Movies</td>\n",
       "        <td>Declassified documents reveal the post-WWII life of Otto Skorzeny, a close Hitler ally who escaped to Spain and became an adviser to world presidents.</td>\n",
       "        <td>September</td>\n",
       "        <td>22</td>\n",
       "        <td>2021</td>\n",
       "        <td>0</td>\n",
       "    </tr>\n",
       "    <tr>\n",
       "        <td>45</td>\n",
       "        <td>Movie</td>\n",
       "        <td>My Heroes Were Cowboys</td>\n",
       "        <td>Tyler Greco</td>\n",
       "        <td>Not Available</td>\n",
       "        <td>Not Available</td>\n",
       "        <td>2021</td>\n",
       "        <td>PG</td>\n",
       "        <td>23</td>\n",
       "        <td>Documentaries</td>\n",
       "        <td>Robin Wiltshire&#x27;s painful childhood was rescued by Westerns. Now he lives on the frontier of his dreams, training the horses he loves for the big screen.</td>\n",
       "        <td>September</td>\n",
       "        <td>16</td>\n",
       "        <td>2021</td>\n",
       "        <td>0</td>\n",
       "    </tr>\n",
       "    <tr>\n",
       "        <td>68</td>\n",
       "        <td>Movie</td>\n",
       "        <td>Schumacher</td>\n",
       "        <td>Hanns-Bruno Kammertöns, Vanessa Nöcker, Michael Wech</td>\n",
       "        <td>Michael Schumacher</td>\n",
       "        <td>Not Available</td>\n",
       "        <td>2021</td>\n",
       "        <td>TV-14</td>\n",
       "        <td>113</td>\n",
       "        <td>Documentaries, International Movies, Sports Movies</td>\n",
       "        <td>Through exclusive interviews and archival footage, this documentary traces an intimate portrait of seven-time Formula 1 champion Michael Schumacher.</td>\n",
       "        <td>September</td>\n",
       "        <td>15</td>\n",
       "        <td>2021</td>\n",
       "        <td>0</td>\n",
       "    </tr>\n",
       "    <tr>\n",
       "        <td>88</td>\n",
       "        <td>Movie</td>\n",
       "        <td>Blood Brothers: Malcolm X &amp; Muhammad Ali</td>\n",
       "        <td>Marcus Clarke</td>\n",
       "        <td>Malcolm X, Muhammad Ali</td>\n",
       "        <td>Not Available</td>\n",
       "        <td>2021</td>\n",
       "        <td>PG-13</td>\n",
       "        <td>96</td>\n",
       "        <td>Documentaries, Sports Movies</td>\n",
       "        <td>From a chance meeting to a tragic fallout, Malcolm X and Muhammad Ali&#x27;s extraordinary bond cracks under the weight of distrust and shifting ideals.</td>\n",
       "        <td>September</td>\n",
       "        <td>9</td>\n",
       "        <td>2021</td>\n",
       "        <td>0</td>\n",
       "    </tr>\n",
       "    <tr>\n",
       "        <td>91</td>\n",
       "        <td>Movie</td>\n",
       "        <td>The Women and the Murderer</td>\n",
       "        <td>Mona Achache, Patricia Tourancheau</td>\n",
       "        <td>Not Available</td>\n",
       "        <td>France</td>\n",
       "        <td>2021</td>\n",
       "        <td>TV-14</td>\n",
       "        <td>92</td>\n",
       "        <td>Documentaries, International Movies</td>\n",
       "        <td>This documentary traces the capture of serial killer Guy Georges through the tireless work of two women: a police chief and a victim&#x27;s mother.</td>\n",
       "        <td>September</td>\n",
       "        <td>9</td>\n",
       "        <td>2021</td>\n",
       "        <td>0</td>\n",
       "    </tr>\n",
       "    <tr>\n",
       "        <td>96</td>\n",
       "        <td>Movie</td>\n",
       "        <td>If I Leave Here Tomorrow: A Film About Lynyrd Skynyrd</td>\n",
       "        <td>Stephen Kijak</td>\n",
       "        <td>Ronnie Van Zandt, Gary Rossington, Allen Collins, Leon Wilkeson, Bob Burns, Billy Powell, Ed King, Artimus Pyle, Steve Gaines, Johnny Van Zant</td>\n",
       "        <td>United States</td>\n",
       "        <td>2018</td>\n",
       "        <td>TV-MA</td>\n",
       "        <td>97</td>\n",
       "        <td>Documentaries, Music &amp; Musicals</td>\n",
       "        <td>Using interviews and archival footage, this documentary charts the story of the legendary Southern rockers with a focus on front man Ronnie Van Zant.</td>\n",
       "        <td>September</td>\n",
       "        <td>7</td>\n",
       "        <td>2021</td>\n",
       "        <td>0</td>\n",
       "    </tr>\n",
       "    <tr>\n",
       "        <td>101</td>\n",
       "        <td>Movie</td>\n",
       "        <td>Untold: Breaking Point</td>\n",
       "        <td>Chapman Way, Maclain Way</td>\n",
       "        <td>Not Available</td>\n",
       "        <td>United States</td>\n",
       "        <td>2021</td>\n",
       "        <td>TV-MA</td>\n",
       "        <td>80</td>\n",
       "        <td>Documentaries, Sports Movies</td>\n",
       "        <td>Under pressure to continue a winning tradition in American tennis, Mardy Fish faced mental health challenges that changed his life on and off the court.</td>\n",
       "        <td>September</td>\n",
       "        <td>7</td>\n",
       "        <td>2021</td>\n",
       "        <td>0</td>\n",
       "    </tr>\n",
       "    <tr>\n",
       "        <td>117</td>\n",
       "        <td>Movie</td>\n",
       "        <td>Final Account</td>\n",
       "        <td>Luke Holland</td>\n",
       "        <td>Not Available</td>\n",
       "        <td>United Kingdom, United States</td>\n",
       "        <td>2021</td>\n",
       "        <td>PG-13</td>\n",
       "        <td>94</td>\n",
       "        <td>Documentaries</td>\n",
       "        <td>This documentary stitches together never-before-seen interviews with the last living generation of people who participated in Hitler&#x27;s Third Reich.</td>\n",
       "        <td>September</td>\n",
       "        <td>2</td>\n",
       "        <td>2021</td>\n",
       "        <td>0</td>\n",
       "    </tr>\n",
       "    <tr>\n",
       "        <td>170</td>\n",
       "        <td>Movie</td>\n",
       "        <td>Rhyme &amp; Reason</td>\n",
       "        <td>Peter Spirer</td>\n",
       "        <td>Too $hort, B-Real, Kurtis Blow, Da Brat, Grandmaster Caz, Sean &quot;P. Diddy&quot; Combs, Chuck D., Desiree Densiti, Dr. Dre, E-40, MC Eiht, Heavy D, Lauryn Hill, Ice-T, Wyclef Jean, Ras Kass, KRS-One, L.V., Mack 10, Craig Mack, Method Man, Keith Murray, Nasir &#x27;Nas&#x27; Jones, The Notorious B.I.G., Master P, Q-Tip, Raekwon, Redman, Senen Reyes, Busta Rhymes, RZA, DJ Scratch, Erick Sermon, Tupac Shakur, Adario Strange, Suave</td>\n",
       "        <td>United States</td>\n",
       "        <td>1997</td>\n",
       "        <td>R</td>\n",
       "        <td>89</td>\n",
       "        <td>Documentaries, Music &amp; Musicals</td>\n",
       "        <td>The world and culture of rap song topics such as race, violence, police, family and sex are examined by hip-hop performers from both coasts.</td>\n",
       "        <td>September</td>\n",
       "        <td>1</td>\n",
       "        <td>2021</td>\n",
       "        <td>0</td>\n",
       "    </tr>\n",
       "    <tr>\n",
       "        <td>173</td>\n",
       "        <td>Movie</td>\n",
       "        <td>Snervous Tyler Oakley</td>\n",
       "        <td>Amy Rice</td>\n",
       "        <td>Tyler Oakley</td>\n",
       "        <td>United States</td>\n",
       "        <td>2015</td>\n",
       "        <td>PG-13</td>\n",
       "        <td>83</td>\n",
       "        <td>Documentaries, LGBTQ Movies</td>\n",
       "        <td>The inspiring Internet star and LGBT advocate shares an intimate view of his life and relationships during his international &quot;Slumber Party&quot; tour.</td>\n",
       "        <td>September</td>\n",
       "        <td>1</td>\n",
       "        <td>2021</td>\n",
       "        <td>0</td>\n",
       "    </tr>\n",
       "    <tr>\n",
       "        <td>185</td>\n",
       "        <td>Movie</td>\n",
       "        <td>Untold: Crime &amp; Penalties</td>\n",
       "        <td>Chapman Way, Maclain Way</td>\n",
       "        <td>Not Available</td>\n",
       "        <td>Not Available</td>\n",
       "        <td>2021</td>\n",
       "        <td>TV-MA</td>\n",
       "        <td>86</td>\n",
       "        <td>Documentaries, Sports Movies</td>\n",
       "        <td>They were the bad boys of hockey — a team bought by a man with mob ties, run by his 17-year-old son, and with a rep for being as violent as they were good.</td>\n",
       "        <td>August</td>\n",
       "        <td>31</td>\n",
       "        <td>2021</td>\n",
       "        <td>0</td>\n",
       "    </tr>\n",
       "    <tr>\n",
       "        <td>221</td>\n",
       "        <td>Movie</td>\n",
       "        <td>Bob Ross: Happy Accidents, Betrayal &amp; Greed</td>\n",
       "        <td>Joshua Rofé</td>\n",
       "        <td>Bob Ross</td>\n",
       "        <td>Not Available</td>\n",
       "        <td>2021</td>\n",
       "        <td>TV-14</td>\n",
       "        <td>93</td>\n",
       "        <td>Documentaries</td>\n",
       "        <td>Bob Ross brought joy to millions as the world’s most famous art instructor. But a battle for his business empire cast a shadow over his happy trees.</td>\n",
       "        <td>August</td>\n",
       "        <td>25</td>\n",
       "        <td>2021</td>\n",
       "        <td>0</td>\n",
       "    </tr>\n",
       "    <tr>\n",
       "        <td>230</td>\n",
       "        <td>Movie</td>\n",
       "        <td>The River Runner</td>\n",
       "        <td>Rush Sturges</td>\n",
       "        <td>Not Available</td>\n",
       "        <td>Not Available</td>\n",
       "        <td>2021</td>\n",
       "        <td>TV-MA</td>\n",
       "        <td>86</td>\n",
       "        <td>Documentaries, Sports Movies</td>\n",
       "        <td>In this documentary, a kayaker sets out to become the first man to paddle the four great rivers that flow from Tibet&#x27;s sacred Mount Kailash.</td>\n",
       "        <td>August</td>\n",
       "        <td>25</td>\n",
       "        <td>2021</td>\n",
       "        <td>0</td>\n",
       "    </tr>\n",
       "    <tr>\n",
       "        <td>233</td>\n",
       "        <td>Movie</td>\n",
       "        <td>Count Me In</td>\n",
       "        <td>Mark Lo</td>\n",
       "        <td>Not Available</td>\n",
       "        <td>United Kingdom</td>\n",
       "        <td>2021</td>\n",
       "        <td>TV-MA</td>\n",
       "        <td>82</td>\n",
       "        <td>Documentaries, Music &amp; Musicals</td>\n",
       "        <td>This documentary features some of rock&#x27;s greatest drummers as they come together in an inspiring rhythmic journey about the power of human connection.</td>\n",
       "        <td>August</td>\n",
       "        <td>24</td>\n",
       "        <td>2021</td>\n",
       "        <td>0</td>\n",
       "    </tr>\n",
       "    <tr>\n",
       "        <td>235</td>\n",
       "        <td>Movie</td>\n",
       "        <td>Untold: Caitlyn Jenner</td>\n",
       "        <td>Crystal Moselle</td>\n",
       "        <td>Not Available</td>\n",
       "        <td>Not Available</td>\n",
       "        <td>2021</td>\n",
       "        <td>TV-PG</td>\n",
       "        <td>70</td>\n",
       "        <td>Documentaries, LGBTQ Movies, Sports Movies</td>\n",
       "        <td>Caitlyn Jenner&#x27;s unlikely path to Olympic glory was inspirational. But her more challenging road to embracing her true self proved even more meaningful.</td>\n",
       "        <td>August</td>\n",
       "        <td>24</td>\n",
       "        <td>2021</td>\n",
       "        <td>0</td>\n",
       "    </tr>\n",
       "    <tr>\n",
       "        <td>255</td>\n",
       "        <td>Movie</td>\n",
       "        <td>Memories of a Murderer: The Nilsen Tapes</td>\n",
       "        <td>Michael Harte</td>\n",
       "        <td>Not Available</td>\n",
       "        <td>Not Available</td>\n",
       "        <td>2021</td>\n",
       "        <td>TV-MA</td>\n",
       "        <td>86</td>\n",
       "        <td>Documentaries, International Movies</td>\n",
       "        <td>Serial killer Dennis Nilsen narrates his life and horrific crimes via a series of chilling audiotapes recorded from his jail cell.</td>\n",
       "        <td>August</td>\n",
       "        <td>18</td>\n",
       "        <td>2021</td>\n",
       "        <td>0</td>\n",
       "    </tr>\n",
       "    <tr>\n",
       "        <td>262</td>\n",
       "        <td>Movie</td>\n",
       "        <td>Untold: Deal With the Devil</td>\n",
       "        <td>Laura Brownson</td>\n",
       "        <td>Not Available</td>\n",
       "        <td>Not Available</td>\n",
       "        <td>2021</td>\n",
       "        <td>TV-MA</td>\n",
       "        <td>78</td>\n",
       "        <td>Documentaries, LGBTQ Movies, Sports Movies</td>\n",
       "        <td>Christy Martin broke boundaries and noses as she rose in the boxing world, but her public persona belied personal demons, abuse and a threat on her life.</td>\n",
       "        <td>August</td>\n",
       "        <td>18</td>\n",
       "        <td>2021</td>\n",
       "        <td>0</td>\n",
       "    </tr>\n",
       "    <tr>\n",
       "        <td>283</td>\n",
       "        <td>Movie</td>\n",
       "        <td>Misha and the Wolves</td>\n",
       "        <td>Sam Hobkinson</td>\n",
       "        <td>Not Available</td>\n",
       "        <td>Belgium, United Kingdom</td>\n",
       "        <td>2021</td>\n",
       "        <td>PG-13</td>\n",
       "        <td>90</td>\n",
       "        <td>Documentaries, International Movies</td>\n",
       "        <td>As a little girl, she escaped the Holocaust and lived among wolves. Or did she? An extraordinary story elicits sympathy — then draws scrutiny.</td>\n",
       "        <td>August</td>\n",
       "        <td>11</td>\n",
       "        <td>2021</td>\n",
       "        <td>0</td>\n",
       "    </tr>\n",
       "    <tr>\n",
       "        <td>290</td>\n",
       "        <td>Movie</td>\n",
       "        <td>Untold: Malice at the Palace</td>\n",
       "        <td>Floyd Russ</td>\n",
       "        <td>Not Available</td>\n",
       "        <td>United States</td>\n",
       "        <td>2021</td>\n",
       "        <td>TV-MA</td>\n",
       "        <td>70</td>\n",
       "        <td>Documentaries, Sports Movies</td>\n",
       "        <td>Key figures from an infamous 2004 incident between players and fans at an NBA game in Michigan discuss the fight, its fallout and its lasting legacy.</td>\n",
       "        <td>August</td>\n",
       "        <td>10</td>\n",
       "        <td>2021</td>\n",
       "        <td>0</td>\n",
       "    </tr>\n",
       "</table>"
      ],
      "text/plain": [
       "[(0, 'Movie', 'Dick Johnson Is Dead', 'Kirsten Johnson', 'Not Available', 'United States', 2020, 'PG-13', 90, 'Documentaries', 'As her father nears the end of his life, filmmaker Kirsten Johnson stages his death in inventive and comical ways to help them both face the inevitable.', 'September', 25, 2021, 0),\n",
       " (16, 'Movie', \"Europe's Most Dangerous Man: Otto Skorzeny in Spain\", 'Pedro de Echave García, Pablo Azorín Williams', 'Not Available', 'Not Available', 2020, 'TV-MA', 67, 'Documentaries, International Movies', 'Declassified documents reveal the post-WWII life of Otto Skorzeny, a close Hitler ally who escaped to Spain and became an adviser to world presidents.', 'September', 22, 2021, 0),\n",
       " (45, 'Movie', 'My Heroes Were Cowboys', 'Tyler Greco', 'Not Available', 'Not Available', 2021, 'PG', 23, 'Documentaries', \"Robin Wiltshire's painful childhood was rescued by Westerns. Now he lives on the frontier of his dreams, training the horses he loves for the big screen.\", 'September', 16, 2021, 0),\n",
       " (68, 'Movie', 'Schumacher', 'Hanns-Bruno Kammertöns, Vanessa Nöcker, Michael Wech', 'Michael Schumacher', 'Not Available', 2021, 'TV-14', 113, 'Documentaries, International Movies, Sports Movies', 'Through exclusive interviews and archival footage, this documentary traces an intimate portrait of seven-time Formula 1 champion Michael Schumacher.', 'September', 15, 2021, 0),\n",
       " (88, 'Movie', 'Blood Brothers: Malcolm X & Muhammad Ali', 'Marcus Clarke', 'Malcolm X, Muhammad Ali', 'Not Available', 2021, 'PG-13', 96, 'Documentaries, Sports Movies', \"From a chance meeting to a tragic fallout, Malcolm X and Muhammad Ali's extraordinary bond cracks under the weight of distrust and shifting ideals.\", 'September', 9, 2021, 0),\n",
       " (91, 'Movie', 'The Women and the Murderer', 'Mona Achache, Patricia Tourancheau', 'Not Available', 'France', 2021, 'TV-14', 92, 'Documentaries, International Movies', \"This documentary traces the capture of serial killer Guy Georges through the tireless work of two women: a police chief and a victim's mother.\", 'September', 9, 2021, 0),\n",
       " (96, 'Movie', 'If I Leave Here Tomorrow: A Film About Lynyrd Skynyrd', 'Stephen Kijak', 'Ronnie Van Zandt, Gary Rossington, Allen Collins, Leon Wilkeson, Bob Burns, Billy Powell, Ed King, Artimus Pyle, Steve Gaines, Johnny Van Zant', 'United States', 2018, 'TV-MA', 97, 'Documentaries, Music & Musicals', 'Using interviews and archival footage, this documentary charts the story of the legendary Southern rockers with a focus on front man Ronnie Van Zant.', 'September', 7, 2021, 0),\n",
       " (101, 'Movie', 'Untold: Breaking Point', 'Chapman Way, Maclain Way', 'Not Available', 'United States', 2021, 'TV-MA', 80, 'Documentaries, Sports Movies', 'Under pressure to continue a winning tradition in American tennis, Mardy Fish faced mental health challenges that changed his life on and off the court.', 'September', 7, 2021, 0),\n",
       " (117, 'Movie', 'Final Account', 'Luke Holland', 'Not Available', 'United Kingdom, United States', 2021, 'PG-13', 94, 'Documentaries', \"This documentary stitches together never-before-seen interviews with the last living generation of people who participated in Hitler's Third Reich.\", 'September', 2, 2021, 0),\n",
       " (170, 'Movie', 'Rhyme & Reason', 'Peter Spirer', 'Too $hort, B-Real, Kurtis Blow, Da Brat, Grandmaster Caz, Sean \"P. Diddy\" Combs, Chuck D., Desiree Densiti, Dr. Dre, E-40, MC Eiht, Heavy D, Lauryn H ... (118 characters truncated) ... The Notorious B.I.G., Master P, Q-Tip, Raekwon, Redman, Senen Reyes, Busta Rhymes, RZA, DJ Scratch, Erick Sermon, Tupac Shakur, Adario Strange, Suave', 'United States', 1997, 'R', 89, 'Documentaries, Music & Musicals', 'The world and culture of rap song topics such as race, violence, police, family and sex are examined by hip-hop performers from both coasts.', 'September', 1, 2021, 0),\n",
       " (173, 'Movie', 'Snervous Tyler Oakley', 'Amy Rice', 'Tyler Oakley', 'United States', 2015, 'PG-13', 83, 'Documentaries, LGBTQ Movies', 'The inspiring Internet star and LGBT advocate shares an intimate view of his life and relationships during his international \"Slumber Party\" tour.', 'September', 1, 2021, 0),\n",
       " (185, 'Movie', 'Untold: Crime & Penalties', 'Chapman Way, Maclain Way', 'Not Available', 'Not Available', 2021, 'TV-MA', 86, 'Documentaries, Sports Movies', 'They were the bad boys of hockey — a team bought by a man with mob ties, run by his 17-year-old son, and with a rep for being as violent as they were good.', 'August', 31, 2021, 0),\n",
       " (221, 'Movie', 'Bob Ross: Happy Accidents, Betrayal & Greed', 'Joshua Rofé', 'Bob Ross', 'Not Available', 2021, 'TV-14', 93, 'Documentaries', 'Bob Ross brought joy to millions as the world’s most famous art instructor. But a battle for his business empire cast a shadow over his happy trees.', 'August', 25, 2021, 0),\n",
       " (230, 'Movie', 'The River Runner', 'Rush Sturges', 'Not Available', 'Not Available', 2021, 'TV-MA', 86, 'Documentaries, Sports Movies', \"In this documentary, a kayaker sets out to become the first man to paddle the four great rivers that flow from Tibet's sacred Mount Kailash.\", 'August', 25, 2021, 0),\n",
       " (233, 'Movie', 'Count Me In', 'Mark Lo', 'Not Available', 'United Kingdom', 2021, 'TV-MA', 82, 'Documentaries, Music & Musicals', \"This documentary features some of rock's greatest drummers as they come together in an inspiring rhythmic journey about the power of human connection.\", 'August', 24, 2021, 0),\n",
       " (235, 'Movie', 'Untold: Caitlyn Jenner', 'Crystal Moselle', 'Not Available', 'Not Available', 2021, 'TV-PG', 70, 'Documentaries, LGBTQ Movies, Sports Movies', \"Caitlyn Jenner's unlikely path to Olympic glory was inspirational. But her more challenging road to embracing her true self proved even more meaningful.\", 'August', 24, 2021, 0),\n",
       " (255, 'Movie', 'Memories of a Murderer: The Nilsen Tapes', 'Michael Harte', 'Not Available', 'Not Available', 2021, 'TV-MA', 86, 'Documentaries, International Movies', 'Serial killer Dennis Nilsen narrates his life and horrific crimes via a series of chilling audiotapes recorded from his jail cell.', 'August', 18, 2021, 0),\n",
       " (262, 'Movie', 'Untold: Deal With the Devil', 'Laura Brownson', 'Not Available', 'Not Available', 2021, 'TV-MA', 78, 'Documentaries, LGBTQ Movies, Sports Movies', 'Christy Martin broke boundaries and noses as she rose in the boxing world, but her public persona belied personal demons, abuse and a threat on her life.', 'August', 18, 2021, 0),\n",
       " (283, 'Movie', 'Misha and the Wolves', 'Sam Hobkinson', 'Not Available', 'Belgium, United Kingdom', 2021, 'PG-13', 90, 'Documentaries, International Movies', 'As a little girl, she escaped the Holocaust and lived among wolves. Or did she? An extraordinary story elicits sympathy — then draws scrutiny.', 'August', 11, 2021, 0),\n",
       " (290, 'Movie', 'Untold: Malice at the Palace', 'Floyd Russ', 'Not Available', 'United States', 2021, 'TV-MA', 70, 'Documentaries, Sports Movies', 'Key figures from an infamous 2004 incident between players and fans at an NBA game in Michigan discuss the fight, its fallout and its lasting legacy.', 'August', 10, 2021, 0)]"
      ]
     },
     "execution_count": 16,
     "metadata": {},
     "output_type": "execute_result"
    }
   ],
   "source": [
    "%%sql\n",
    "\n",
    "SELECT * FROM TB_netflix\n",
    "WHERE listed_in like '%Documentaries%'\n",
    "limit 20"
   ]
  },
  {
   "cell_type": "markdown",
   "id": "49e22cbf",
   "metadata": {},
   "source": [
    "# TOP 20 Diretores que possuem o maior número total de minutos, contando todos os filmes listados na plataforma"
   ]
  },
  {
   "cell_type": "code",
   "execution_count": 17,
   "id": "033fac7e",
   "metadata": {},
   "outputs": [
    {
     "name": "stdout",
     "output_type": "stream",
     "text": [
      " * sqlite:///database/dbnetflix.db\n",
      "Done.\n"
     ]
    },
    {
     "data": {
      "text/html": [
       "<table>\n",
       "    <tr>\n",
       "        <th>Diretores</th>\n",
       "        <th>duracao_minutos</th>\n",
       "    </tr>\n",
       "    <tr>\n",
       "        <td>Not Available</td>\n",
       "        <td>12741</td>\n",
       "    </tr>\n",
       "    <tr>\n",
       "        <td>Martin Scorsese</td>\n",
       "        <td>1731</td>\n",
       "    </tr>\n",
       "    <tr>\n",
       "        <td>Cathy Garcia-Molina</td>\n",
       "        <td>1537</td>\n",
       "    </tr>\n",
       "    <tr>\n",
       "        <td>Youssef Chahine</td>\n",
       "        <td>1482</td>\n",
       "    </tr>\n",
       "    <tr>\n",
       "        <td>Steven Spielberg</td>\n",
       "        <td>1468</td>\n",
       "    </tr>\n",
       "    <tr>\n",
       "        <td>Hidenori Inoue</td>\n",
       "        <td>1323</td>\n",
       "    </tr>\n",
       "    <tr>\n",
       "        <td>Suhas Kadav</td>\n",
       "        <td>1307</td>\n",
       "    </tr>\n",
       "    <tr>\n",
       "        <td>Rajiv Chilaka</td>\n",
       "        <td>1289</td>\n",
       "    </tr>\n",
       "    <tr>\n",
       "        <td>David Dhawan</td>\n",
       "        <td>1248</td>\n",
       "    </tr>\n",
       "    <tr>\n",
       "        <td>Ashutosh Gowariker</td>\n",
       "        <td>1165</td>\n",
       "    </tr>\n",
       "    <tr>\n",
       "        <td>Raúl Campos, Jan Suter</td>\n",
       "        <td>1145</td>\n",
       "    </tr>\n",
       "    <tr>\n",
       "        <td>S.S. Rajamouli</td>\n",
       "        <td>1113</td>\n",
       "    </tr>\n",
       "    <tr>\n",
       "        <td>Sooraj R. Barjatya</td>\n",
       "        <td>1067</td>\n",
       "    </tr>\n",
       "    <tr>\n",
       "        <td>Quentin Tarantino</td>\n",
       "        <td>1042</td>\n",
       "    </tr>\n",
       "    <tr>\n",
       "        <td>Don Michael Paul</td>\n",
       "        <td>1010</td>\n",
       "    </tr>\n",
       "    <tr>\n",
       "        <td>Jay Karas</td>\n",
       "        <td>996</td>\n",
       "    </tr>\n",
       "    <tr>\n",
       "        <td>Kunle Afolayan</td>\n",
       "        <td>974</td>\n",
       "    </tr>\n",
       "    <tr>\n",
       "        <td>Rajkumar Santoshi</td>\n",
       "        <td>960</td>\n",
       "    </tr>\n",
       "    <tr>\n",
       "        <td>Marcus Raboy</td>\n",
       "        <td>957</td>\n",
       "    </tr>\n",
       "    <tr>\n",
       "        <td>Clint Eastwood</td>\n",
       "        <td>922</td>\n",
       "    </tr>\n",
       "</table>"
      ],
      "text/plain": [
       "[('Not Available', 12741),\n",
       " ('Martin Scorsese', 1731),\n",
       " ('Cathy Garcia-Molina', 1537),\n",
       " ('Youssef Chahine', 1482),\n",
       " ('Steven Spielberg', 1468),\n",
       " ('Hidenori Inoue', 1323),\n",
       " ('Suhas Kadav', 1307),\n",
       " ('Rajiv Chilaka', 1289),\n",
       " ('David Dhawan', 1248),\n",
       " ('Ashutosh Gowariker', 1165),\n",
       " ('Raúl Campos, Jan Suter', 1145),\n",
       " ('S.S. Rajamouli', 1113),\n",
       " ('Sooraj R. Barjatya', 1067),\n",
       " ('Quentin Tarantino', 1042),\n",
       " ('Don Michael Paul', 1010),\n",
       " ('Jay Karas', 996),\n",
       " ('Kunle Afolayan', 974),\n",
       " ('Rajkumar Santoshi', 960),\n",
       " ('Marcus Raboy', 957),\n",
       " ('Clint Eastwood', 922)]"
      ]
     },
     "execution_count": 17,
     "metadata": {},
     "output_type": "execute_result"
    }
   ],
   "source": [
    "%%sql\n",
    "\n",
    "SELECT director as Diretores, SUM(duration) as duracao_minutos FROM TB_netflix\n",
    "WHERE type = 'Movie'\n",
    "GROUP by director\n",
    "HAVING duracao_minutos > 100\n",
    "ORDER BY duracao_minutos desc\n",
    "limit 20"
   ]
  },
  {
   "cell_type": "markdown",
   "id": "cb14b0c6",
   "metadata": {},
   "source": [
    "# Top 10 Diretores que tiveram mais temporadas acumuladas baseado em seus TV Shows na plataforma"
   ]
  },
  {
   "cell_type": "code",
   "execution_count": 40,
   "id": "44572e4f",
   "metadata": {},
   "outputs": [
    {
     "name": "stdout",
     "output_type": "stream",
     "text": [
      " * sqlite:///database/dbnetflix.db\n",
      "Done.\n"
     ]
    },
    {
     "data": {
      "text/html": [
       "<table>\n",
       "    <tr>\n",
       "        <th>director</th>\n",
       "        <th>qtd_seasons_total</th>\n",
       "    </tr>\n",
       "    <tr>\n",
       "        <td>Not Available</td>\n",
       "        <td>4348</td>\n",
       "    </tr>\n",
       "    <tr>\n",
       "        <td>Phil Sgriccia</td>\n",
       "        <td>15</td>\n",
       "    </tr>\n",
       "    <tr>\n",
       "        <td>Rob Seidenglanz</td>\n",
       "        <td>9</td>\n",
       "    </tr>\n",
       "    <tr>\n",
       "        <td>Philippa Lowthorpe</td>\n",
       "        <td>9</td>\n",
       "    </tr>\n",
       "    <tr>\n",
       "        <td>Hayato Date</td>\n",
       "        <td>9</td>\n",
       "    </tr>\n",
       "    <tr>\n",
       "        <td>Andy Devonshire</td>\n",
       "        <td>9</td>\n",
       "    </tr>\n",
       "    <tr>\n",
       "        <td>Jay Chandrasekhar</td>\n",
       "        <td>8</td>\n",
       "    </tr>\n",
       "    <tr>\n",
       "        <td>James Bamford</td>\n",
       "        <td>8</td>\n",
       "    </tr>\n",
       "    <tr>\n",
       "        <td>Dan Forrer</td>\n",
       "        <td>8</td>\n",
       "    </tr>\n",
       "    <tr>\n",
       "        <td>Glen Winter</td>\n",
       "        <td>7</td>\n",
       "    </tr>\n",
       "</table>"
      ],
      "text/plain": [
       "[('Not Available', 4348),\n",
       " ('Phil Sgriccia', 15),\n",
       " ('Rob Seidenglanz', 9),\n",
       " ('Philippa Lowthorpe', 9),\n",
       " ('Hayato Date', 9),\n",
       " ('Andy Devonshire', 9),\n",
       " ('Jay Chandrasekhar', 8),\n",
       " ('James Bamford', 8),\n",
       " ('Dan Forrer', 8),\n",
       " ('Glen Winter', 7)]"
      ]
     },
     "execution_count": 40,
     "metadata": {},
     "output_type": "execute_result"
    }
   ],
   "source": [
    "%%sql\n",
    "\n",
    "SELECT director, SUM(qtd_seasons) as qtd_seasons_total FROM TB_netflix\n",
    "WHERE type = 'TV Show'\n",
    "GROUP by director\n",
    "ORDER BY qtd_seasons_total desc\n",
    "limit 10"
   ]
  },
  {
   "cell_type": "code",
   "execution_count": 18,
   "id": "5ed27d68",
   "metadata": {},
   "outputs": [
    {
     "data": {
      "text/html": [
       "<div>\n",
       "<style scoped>\n",
       "    .dataframe tbody tr th:only-of-type {\n",
       "        vertical-align: middle;\n",
       "    }\n",
       "\n",
       "    .dataframe tbody tr th {\n",
       "        vertical-align: top;\n",
       "    }\n",
       "\n",
       "    .dataframe thead th {\n",
       "        text-align: right;\n",
       "    }\n",
       "</style>\n",
       "<table border=\"1\" class=\"dataframe\">\n",
       "  <thead>\n",
       "    <tr style=\"text-align: right;\">\n",
       "      <th></th>\n",
       "      <th>type</th>\n",
       "      <th>title</th>\n",
       "      <th>director</th>\n",
       "      <th>cast</th>\n",
       "      <th>country</th>\n",
       "      <th>release_year</th>\n",
       "      <th>rating</th>\n",
       "      <th>duration</th>\n",
       "      <th>listed_in</th>\n",
       "      <th>description</th>\n",
       "      <th>month_added</th>\n",
       "      <th>day_added</th>\n",
       "      <th>year_added</th>\n",
       "      <th>qtd_seasons</th>\n",
       "    </tr>\n",
       "  </thead>\n",
       "  <tbody>\n",
       "    <tr>\n",
       "      <th>2423</th>\n",
       "      <td>TV Show</td>\n",
       "      <td>Supernatural</td>\n",
       "      <td>Phil Sgriccia</td>\n",
       "      <td>Jared Padalecki, Jensen Ackles, Mark Sheppard,...</td>\n",
       "      <td>United States, Canada</td>\n",
       "      <td>2019</td>\n",
       "      <td>TV-14</td>\n",
       "      <td>0</td>\n",
       "      <td>Classic &amp; Cult TV, TV Action &amp; Adventure, TV H...</td>\n",
       "      <td>Siblings Dean and Sam crisscross the country, ...</td>\n",
       "      <td>June</td>\n",
       "      <td>5</td>\n",
       "      <td>2020</td>\n",
       "      <td>15</td>\n",
       "    </tr>\n",
       "  </tbody>\n",
       "</table>\n",
       "</div>"
      ],
      "text/plain": [
       "         type         title       director  \\\n",
       "2423  TV Show  Supernatural  Phil Sgriccia   \n",
       "\n",
       "                                                   cast  \\\n",
       "2423  Jared Padalecki, Jensen Ackles, Mark Sheppard,...   \n",
       "\n",
       "                    country  release_year rating  duration  \\\n",
       "2423  United States, Canada          2019  TV-14         0   \n",
       "\n",
       "                                              listed_in  \\\n",
       "2423  Classic & Cult TV, TV Action & Adventure, TV H...   \n",
       "\n",
       "                                            description month_added  \\\n",
       "2423  Siblings Dean and Sam crisscross the country, ...        June   \n",
       "\n",
       "      day_added  year_added  qtd_seasons  \n",
       "2423          5        2020           15  "
      ]
     },
     "execution_count": 18,
     "metadata": {},
     "output_type": "execute_result"
    }
   ],
   "source": [
    "df.loc[(df.director == 'Phil Sgriccia')]"
   ]
  },
  {
   "cell_type": "markdown",
   "id": "ef1cb22e",
   "metadata": {},
   "source": [
    "# Série com o maior número de Temporadas"
   ]
  },
  {
   "cell_type": "code",
   "execution_count": 19,
   "id": "871374b4",
   "metadata": {},
   "outputs": [
    {
     "data": {
      "text/plain": [
       "17"
      ]
     },
     "execution_count": 19,
     "metadata": {},
     "output_type": "execute_result"
    }
   ],
   "source": [
    "df.qtd_seasons.max()"
   ]
  },
  {
   "cell_type": "code",
   "execution_count": 20,
   "id": "301c05ee",
   "metadata": {},
   "outputs": [
    {
     "name": "stdout",
     "output_type": "stream",
     "text": [
      " * sqlite:///database/dbnetflix.db\n",
      "Done.\n"
     ]
    },
    {
     "data": {
      "text/html": [
       "<table>\n",
       "    <tr>\n",
       "        <th>index</th>\n",
       "        <th>type</th>\n",
       "        <th>title</th>\n",
       "        <th>director</th>\n",
       "        <th>cast</th>\n",
       "        <th>country</th>\n",
       "        <th>release_year</th>\n",
       "        <th>rating</th>\n",
       "        <th>duration</th>\n",
       "        <th>listed_in</th>\n",
       "        <th>description</th>\n",
       "        <th>month_added</th>\n",
       "        <th>day_added</th>\n",
       "        <th>year_added</th>\n",
       "        <th>qtd_seasons</th>\n",
       "    </tr>\n",
       "    <tr>\n",
       "        <td>548</td>\n",
       "        <td>TV Show</td>\n",
       "        <td>Grey&#x27;s Anatomy</td>\n",
       "        <td>Not Available</td>\n",
       "        <td>Ellen Pompeo, Sandra Oh, Katherine Heigl, Justin Chambers, Patrick Dempsey, Chandra Wilson, T.R. Knight, James Pickens Jr., Isaiah Washington, Sara Ramirez, Eric Dane, Chyler Leigh, Kate Walsh, Kevin McKidd, Jessica Capshaw</td>\n",
       "        <td>United States</td>\n",
       "        <td>2020</td>\n",
       "        <td>TV-14</td>\n",
       "        <td>0</td>\n",
       "        <td>Romantic TV Shows, TV Dramas</td>\n",
       "        <td>Intern (and eventual resident) Meredith Grey finds herself caught up in personal and professional passions with fellow doctors at a Seattle hospital.</td>\n",
       "        <td>July</td>\n",
       "        <td>3</td>\n",
       "        <td>2021</td>\n",
       "        <td>17</td>\n",
       "    </tr>\n",
       "</table>"
      ],
      "text/plain": [
       "[(548, 'TV Show', \"Grey's Anatomy\", 'Not Available', 'Ellen Pompeo, Sandra Oh, Katherine Heigl, Justin Chambers, Patrick Dempsey, Chandra Wilson, T.R. Knight, James Pickens Jr., Isaiah Washington, Sara Ramirez, Eric Dane, Chyler Leigh, Kate Walsh, Kevin McKidd, Jessica Capshaw', 'United States', 2020, 'TV-14', 0, 'Romantic TV Shows, TV Dramas', 'Intern (and eventual resident) Meredith Grey finds herself caught up in personal and professional passions with fellow doctors at a Seattle hospital.', 'July', 3, 2021, 17)]"
      ]
     },
     "execution_count": 20,
     "metadata": {},
     "output_type": "execute_result"
    }
   ],
   "source": [
    "%%sql\n",
    "\n",
    "SELECT * FROM TB_netflix\n",
    "where qtd_seasons = 17"
   ]
  },
  {
   "cell_type": "markdown",
   "id": "485b1911",
   "metadata": {},
   "source": [
    "> Observe que o diretor de Grey's Anatomy não está disponível nos dados, ou seja, caso houvesse diretor ele se tornaria o diretor com mais temporadas em um TV Show na análise anterior"
   ]
  },
  {
   "cell_type": "code",
   "execution_count": 21,
   "id": "985bc4d6",
   "metadata": {},
   "outputs": [
    {
     "data": {
      "text/html": [
       "<div>\n",
       "<style scoped>\n",
       "    .dataframe tbody tr th:only-of-type {\n",
       "        vertical-align: middle;\n",
       "    }\n",
       "\n",
       "    .dataframe tbody tr th {\n",
       "        vertical-align: top;\n",
       "    }\n",
       "\n",
       "    .dataframe thead th {\n",
       "        text-align: right;\n",
       "    }\n",
       "</style>\n",
       "<table border=\"1\" class=\"dataframe\">\n",
       "  <thead>\n",
       "    <tr style=\"text-align: right;\">\n",
       "      <th></th>\n",
       "      <th>type</th>\n",
       "      <th>title</th>\n",
       "      <th>director</th>\n",
       "      <th>cast</th>\n",
       "      <th>country</th>\n",
       "      <th>release_year</th>\n",
       "      <th>rating</th>\n",
       "      <th>duration</th>\n",
       "      <th>listed_in</th>\n",
       "      <th>description</th>\n",
       "      <th>month_added</th>\n",
       "      <th>day_added</th>\n",
       "      <th>year_added</th>\n",
       "      <th>qtd_seasons</th>\n",
       "    </tr>\n",
       "  </thead>\n",
       "  <tbody>\n",
       "    <tr>\n",
       "      <th>1</th>\n",
       "      <td>TV Show</td>\n",
       "      <td>Blood &amp; Water</td>\n",
       "      <td>Not Available</td>\n",
       "      <td>Ama Qamata, Khosi Ngema, Gail Mabalane, Thaban...</td>\n",
       "      <td>South Africa</td>\n",
       "      <td>2021</td>\n",
       "      <td>TV-MA</td>\n",
       "      <td>0</td>\n",
       "      <td>International TV Shows, TV Dramas, TV Mysteries</td>\n",
       "      <td>After crossing paths at a party, a Cape Town t...</td>\n",
       "      <td>September</td>\n",
       "      <td>24</td>\n",
       "      <td>2021</td>\n",
       "      <td>2</td>\n",
       "    </tr>\n",
       "    <tr>\n",
       "      <th>3</th>\n",
       "      <td>TV Show</td>\n",
       "      <td>Jailbirds New Orleans</td>\n",
       "      <td>Not Available</td>\n",
       "      <td>Not Available</td>\n",
       "      <td>Not Available</td>\n",
       "      <td>2021</td>\n",
       "      <td>TV-MA</td>\n",
       "      <td>0</td>\n",
       "      <td>Docuseries, Reality TV</td>\n",
       "      <td>Feuds, flirtations and toilet talk go down amo...</td>\n",
       "      <td>September</td>\n",
       "      <td>24</td>\n",
       "      <td>2021</td>\n",
       "      <td>1</td>\n",
       "    </tr>\n",
       "    <tr>\n",
       "      <th>4</th>\n",
       "      <td>TV Show</td>\n",
       "      <td>Kota Factory</td>\n",
       "      <td>Not Available</td>\n",
       "      <td>Mayur More, Jitendra Kumar, Ranjan Raj, Alam K...</td>\n",
       "      <td>India</td>\n",
       "      <td>2021</td>\n",
       "      <td>TV-MA</td>\n",
       "      <td>0</td>\n",
       "      <td>International TV Shows, Romantic TV Shows, TV ...</td>\n",
       "      <td>In a city of coaching centers known to train I...</td>\n",
       "      <td>September</td>\n",
       "      <td>24</td>\n",
       "      <td>2021</td>\n",
       "      <td>2</td>\n",
       "    </tr>\n",
       "    <tr>\n",
       "      <th>10</th>\n",
       "      <td>TV Show</td>\n",
       "      <td>Vendetta: Truth, Lies and The Mafia</td>\n",
       "      <td>Not Available</td>\n",
       "      <td>Not Available</td>\n",
       "      <td>Not Available</td>\n",
       "      <td>2021</td>\n",
       "      <td>TV-MA</td>\n",
       "      <td>0</td>\n",
       "      <td>Crime TV Shows, Docuseries, International TV S...</td>\n",
       "      <td>Sicily boasts a bold \"Anti-Mafia\" coalition. B...</td>\n",
       "      <td>September</td>\n",
       "      <td>24</td>\n",
       "      <td>2021</td>\n",
       "      <td>1</td>\n",
       "    </tr>\n",
       "    <tr>\n",
       "      <th>14</th>\n",
       "      <td>TV Show</td>\n",
       "      <td>Crime Stories: India Detectives</td>\n",
       "      <td>Not Available</td>\n",
       "      <td>Not Available</td>\n",
       "      <td>Not Available</td>\n",
       "      <td>2021</td>\n",
       "      <td>TV-MA</td>\n",
       "      <td>0</td>\n",
       "      <td>British TV Shows, Crime TV Shows, Docuseries</td>\n",
       "      <td>Cameras following Bengaluru police on the job ...</td>\n",
       "      <td>September</td>\n",
       "      <td>22</td>\n",
       "      <td>2021</td>\n",
       "      <td>1</td>\n",
       "    </tr>\n",
       "    <tr>\n",
       "      <th>...</th>\n",
       "      <td>...</td>\n",
       "      <td>...</td>\n",
       "      <td>...</td>\n",
       "      <td>...</td>\n",
       "      <td>...</td>\n",
       "      <td>...</td>\n",
       "      <td>...</td>\n",
       "      <td>...</td>\n",
       "      <td>...</td>\n",
       "      <td>...</td>\n",
       "      <td>...</td>\n",
       "      <td>...</td>\n",
       "      <td>...</td>\n",
       "      <td>...</td>\n",
       "    </tr>\n",
       "    <tr>\n",
       "      <th>8795</th>\n",
       "      <td>TV Show</td>\n",
       "      <td>Yu-Gi-Oh! Arc-V</td>\n",
       "      <td>Not Available</td>\n",
       "      <td>Mike Liscio, Emily Bauer, Billy Bob Thompson, ...</td>\n",
       "      <td>Japan, Canada</td>\n",
       "      <td>2015</td>\n",
       "      <td>TV-Y7</td>\n",
       "      <td>0</td>\n",
       "      <td>Anime Series, Kids' TV</td>\n",
       "      <td>Now that he's discovered the Pendulum Summonin...</td>\n",
       "      <td>May</td>\n",
       "      <td>1</td>\n",
       "      <td>2018</td>\n",
       "      <td>2</td>\n",
       "    </tr>\n",
       "    <tr>\n",
       "      <th>8796</th>\n",
       "      <td>TV Show</td>\n",
       "      <td>Yunus Emre</td>\n",
       "      <td>Not Available</td>\n",
       "      <td>Gökhan Atalay, Payidar Tüfekçioglu, Baran Akbu...</td>\n",
       "      <td>Turkey</td>\n",
       "      <td>2016</td>\n",
       "      <td>TV-PG</td>\n",
       "      <td>0</td>\n",
       "      <td>International TV Shows, TV Dramas</td>\n",
       "      <td>During the Mongol invasions, Yunus Emre leaves...</td>\n",
       "      <td>January</td>\n",
       "      <td>17</td>\n",
       "      <td>2017</td>\n",
       "      <td>2</td>\n",
       "    </tr>\n",
       "    <tr>\n",
       "      <th>8797</th>\n",
       "      <td>TV Show</td>\n",
       "      <td>Zak Storm</td>\n",
       "      <td>Not Available</td>\n",
       "      <td>Michael Johnston, Jessica Gee-George, Christin...</td>\n",
       "      <td>United States, France, South Korea, Indonesia</td>\n",
       "      <td>2016</td>\n",
       "      <td>TV-Y7</td>\n",
       "      <td>0</td>\n",
       "      <td>Kids' TV</td>\n",
       "      <td>Teen surfer Zak Storm is mysteriously transpor...</td>\n",
       "      <td>September</td>\n",
       "      <td>13</td>\n",
       "      <td>2018</td>\n",
       "      <td>3</td>\n",
       "    </tr>\n",
       "    <tr>\n",
       "      <th>8800</th>\n",
       "      <td>TV Show</td>\n",
       "      <td>Zindagi Gulzar Hai</td>\n",
       "      <td>Not Available</td>\n",
       "      <td>Sanam Saeed, Fawad Khan, Ayesha Omer, Mehreen ...</td>\n",
       "      <td>Pakistan</td>\n",
       "      <td>2012</td>\n",
       "      <td>TV-PG</td>\n",
       "      <td>0</td>\n",
       "      <td>International TV Shows, Romantic TV Shows, TV ...</td>\n",
       "      <td>Strong-willed, middle-class Kashaf and carefre...</td>\n",
       "      <td>December</td>\n",
       "      <td>15</td>\n",
       "      <td>2016</td>\n",
       "      <td>1</td>\n",
       "    </tr>\n",
       "    <tr>\n",
       "      <th>8803</th>\n",
       "      <td>TV Show</td>\n",
       "      <td>Zombie Dumb</td>\n",
       "      <td>Not Available</td>\n",
       "      <td>Not Available</td>\n",
       "      <td>Not Available</td>\n",
       "      <td>2018</td>\n",
       "      <td>TV-Y7</td>\n",
       "      <td>0</td>\n",
       "      <td>Kids' TV, Korean TV Shows, TV Comedies</td>\n",
       "      <td>While living alone in a spooky town, a young g...</td>\n",
       "      <td>July</td>\n",
       "      <td>1</td>\n",
       "      <td>2019</td>\n",
       "      <td>2</td>\n",
       "    </tr>\n",
       "  </tbody>\n",
       "</table>\n",
       "<p>2634 rows × 14 columns</p>\n",
       "</div>"
      ],
      "text/plain": [
       "         type                                title       director  \\\n",
       "1     TV Show                        Blood & Water  Not Available   \n",
       "3     TV Show                Jailbirds New Orleans  Not Available   \n",
       "4     TV Show                         Kota Factory  Not Available   \n",
       "10    TV Show  Vendetta: Truth, Lies and The Mafia  Not Available   \n",
       "14    TV Show      Crime Stories: India Detectives  Not Available   \n",
       "...       ...                                  ...            ...   \n",
       "8795  TV Show                      Yu-Gi-Oh! Arc-V  Not Available   \n",
       "8796  TV Show                           Yunus Emre  Not Available   \n",
       "8797  TV Show                            Zak Storm  Not Available   \n",
       "8800  TV Show                   Zindagi Gulzar Hai  Not Available   \n",
       "8803  TV Show                          Zombie Dumb  Not Available   \n",
       "\n",
       "                                                   cast  \\\n",
       "1     Ama Qamata, Khosi Ngema, Gail Mabalane, Thaban...   \n",
       "3                                         Not Available   \n",
       "4     Mayur More, Jitendra Kumar, Ranjan Raj, Alam K...   \n",
       "10                                        Not Available   \n",
       "14                                        Not Available   \n",
       "...                                                 ...   \n",
       "8795  Mike Liscio, Emily Bauer, Billy Bob Thompson, ...   \n",
       "8796  Gökhan Atalay, Payidar Tüfekçioglu, Baran Akbu...   \n",
       "8797  Michael Johnston, Jessica Gee-George, Christin...   \n",
       "8800  Sanam Saeed, Fawad Khan, Ayesha Omer, Mehreen ...   \n",
       "8803                                      Not Available   \n",
       "\n",
       "                                            country  release_year rating  \\\n",
       "1                                      South Africa          2021  TV-MA   \n",
       "3                                     Not Available          2021  TV-MA   \n",
       "4                                             India          2021  TV-MA   \n",
       "10                                    Not Available          2021  TV-MA   \n",
       "14                                    Not Available          2021  TV-MA   \n",
       "...                                             ...           ...    ...   \n",
       "8795                                  Japan, Canada          2015  TV-Y7   \n",
       "8796                                         Turkey          2016  TV-PG   \n",
       "8797  United States, France, South Korea, Indonesia          2016  TV-Y7   \n",
       "8800                                       Pakistan          2012  TV-PG   \n",
       "8803                                  Not Available          2018  TV-Y7   \n",
       "\n",
       "      duration                                          listed_in  \\\n",
       "1            0    International TV Shows, TV Dramas, TV Mysteries   \n",
       "3            0                             Docuseries, Reality TV   \n",
       "4            0  International TV Shows, Romantic TV Shows, TV ...   \n",
       "10           0  Crime TV Shows, Docuseries, International TV S...   \n",
       "14           0       British TV Shows, Crime TV Shows, Docuseries   \n",
       "...        ...                                                ...   \n",
       "8795         0                             Anime Series, Kids' TV   \n",
       "8796         0                  International TV Shows, TV Dramas   \n",
       "8797         0                                           Kids' TV   \n",
       "8800         0  International TV Shows, Romantic TV Shows, TV ...   \n",
       "8803         0             Kids' TV, Korean TV Shows, TV Comedies   \n",
       "\n",
       "                                            description month_added  \\\n",
       "1     After crossing paths at a party, a Cape Town t...   September   \n",
       "3     Feuds, flirtations and toilet talk go down amo...   September   \n",
       "4     In a city of coaching centers known to train I...   September   \n",
       "10    Sicily boasts a bold \"Anti-Mafia\" coalition. B...   September   \n",
       "14    Cameras following Bengaluru police on the job ...   September   \n",
       "...                                                 ...         ...   \n",
       "8795  Now that he's discovered the Pendulum Summonin...         May   \n",
       "8796  During the Mongol invasions, Yunus Emre leaves...     January   \n",
       "8797  Teen surfer Zak Storm is mysteriously transpor...   September   \n",
       "8800  Strong-willed, middle-class Kashaf and carefre...    December   \n",
       "8803  While living alone in a spooky town, a young g...        July   \n",
       "\n",
       "      day_added  year_added  qtd_seasons  \n",
       "1            24        2021            2  \n",
       "3            24        2021            1  \n",
       "4            24        2021            2  \n",
       "10           24        2021            1  \n",
       "14           22        2021            1  \n",
       "...         ...         ...          ...  \n",
       "8795          1        2018            2  \n",
       "8796         17        2017            2  \n",
       "8797         13        2018            3  \n",
       "8800         15        2016            1  \n",
       "8803          1        2019            2  \n",
       "\n",
       "[2634 rows x 14 columns]"
      ]
     },
     "execution_count": 21,
     "metadata": {},
     "output_type": "execute_result"
    }
   ],
   "source": [
    "df.loc[df.director == 'Not Available']"
   ]
  },
  {
   "cell_type": "markdown",
   "id": "0835cee8",
   "metadata": {},
   "source": [
    "# Exibindo Graficamente alguns insights"
   ]
  },
  {
   "cell_type": "markdown",
   "id": "91056bd0",
   "metadata": {},
   "source": [
    "## Movies VS TV Shows"
   ]
  },
  {
   "cell_type": "code",
   "execution_count": 22,
   "id": "8ddf2518",
   "metadata": {},
   "outputs": [
    {
     "data": {
      "text/plain": [
       "6131"
      ]
     },
     "execution_count": 22,
     "metadata": {},
     "output_type": "execute_result"
    }
   ],
   "source": [
    "len(df.loc[(df['type'] == 'Movie')])"
   ]
  },
  {
   "cell_type": "code",
   "execution_count": 42,
   "id": "e221232a",
   "metadata": {},
   "outputs": [
    {
     "data": {
      "image/png": "[encoded data removed]",
      "text/plain": [
       "<Figure size 648x576 with 1 Axes>"
      ]
     },
     "metadata": {},
     "output_type": "display_data"
    }
   ],
   "source": [
    "\n",
    "labels = 'Movies', 'TV Shows' \n",
    "movies = len(df.loc[(df['type'] == 'Movie')]) # Contagem dos valores totais de movies do dataset\n",
    "tvshows = len(df.loc[(df['type'] == 'TV Show')]) #  Contagem dos valores totais de tv shows do dataset\n",
    "sizes = [movies,tvshows] # lista com os 2 valores\n",
    "explode = (0, 0.1)  # quebra de fatia de 0.1 na segunda fatia(tvshows)\n",
    "\n",
    "\n",
    "fig1, ax1 = plt.subplots(figsize = [9,8])\n",
    "ax1.pie(sizes, explode=explode, labels=labels, autopct='%1.1f%%',\n",
    "        shadow=False, startangle=30, textprops={'fontsize': 15}) # autopct para mostrar o valor em % \n",
    "ax1.axis('equal')  # Ajusta a escala para que o circulo não se deforme : \n",
    "plt.savefig('imagens/pie_moviesVStvshows.png')\n",
    "plt.show() # exibe o gráfico"
   ]
  },
  {
   "cell_type": "markdown",
   "id": "2d5df1c9",
   "metadata": {},
   "source": [
    "# Quantidade de Movies e TV Shows adicionados por ano"
   ]
  },
  {
   "cell_type": "code",
   "execution_count": 24,
   "id": "2bf3a325",
   "metadata": {},
   "outputs": [
    {
     "data": {
      "text/plain": [
       "9999      10\n",
       "2021    1498\n",
       "2020    1879\n",
       "2019    2016\n",
       "2018    1649\n",
       "2017    1188\n",
       "2016     429\n",
       "2015      82\n",
       "2014      24\n",
       "2013      11\n",
       "2012       3\n",
       "2011      13\n",
       "2010       1\n",
       "2009       2\n",
       "2008       2\n",
       "Name: year_added, dtype: int64"
      ]
     },
     "execution_count": 24,
     "metadata": {},
     "output_type": "execute_result"
    }
   ],
   "source": [
    "df.year_added.value_counts().sort_index(ascending = False)"
   ]
  },
  {
   "cell_type": "code",
   "execution_count": 43,
   "id": "c0c991fa",
   "metadata": {},
   "outputs": [
    {
     "data": {
      "image/png": "[encoded data removed]",
      "text/plain": [
       "<Figure size 576x432 with 1 Axes>"
      ]
     },
     "metadata": {
      "needs_background": "light"
     },
     "output_type": "display_data"
    }
   ],
   "source": [
    "df_movies = df.loc[(df['type'] == 'Movie')] \n",
    "movie_data = df_movies.year_added.unique() #\n",
    "movie_data.sort # modificando para ordem crescente\n",
    "movie_qtd = df_movies.year_added.value_counts().sort_index(ascending = False)\n",
    "\n",
    "\n",
    "\n",
    "\n",
    "plt.figure(figsize=[8,6])\n",
    "plt.bar(movie_data,movie_qtd, label='Movies', color = '#45A1ED')\n",
    "plt.xlabel('Ano', fontsize=18)\n",
    "plt.ylabel('Quantidade', fontsize=18)\n",
    "plt.legend(loc = 'upper left', fontsize=12)\n",
    "plt.savefig('imagens/bar_moviesVSyear.png')\n",
    "plt.show()"
   ]
  },
  {
   "cell_type": "code",
   "execution_count": 26,
   "id": "a75c5cc7",
   "metadata": {},
   "outputs": [],
   "source": [
    "# É necessário modificar 10 linhas do dataset que contém o valor de year_added 9999 que era originalmente nulo.\n",
    "# Essa transformação é necessária para que a escala X do gráfico gerado não seja por exemplo de 2008 até 9999\n",
    "# impactando diretamente no gráfico.\n",
    "# Nesse caso pode-se tanto dropar as 10 linhas por não ser uma grande quantidade de dados, quanto substituir por\n",
    "# uma métrica, no caso, a moda (o valor que mais aparece no dataset para essa variável)"
   ]
  },
  {
   "cell_type": "code",
   "execution_count": 27,
   "id": "2b81ef39",
   "metadata": {},
   "outputs": [
    {
     "data": {
      "text/plain": [
       "2019    2016\n",
       "2020    1879\n",
       "2018    1649\n",
       "2021    1498\n",
       "2017    1188\n",
       "2016     429\n",
       "2015      82\n",
       "2014      24\n",
       "2011      13\n",
       "2013      11\n",
       "9999      10\n",
       "2012       3\n",
       "2009       2\n",
       "2008       2\n",
       "2010       1\n",
       "Name: year_added, dtype: int64"
      ]
     },
     "execution_count": 27,
     "metadata": {},
     "output_type": "execute_result"
    }
   ],
   "source": [
    "# O valor que mais aparece é 2019\n",
    "df.year_added.value_counts()"
   ]
  },
  {
   "cell_type": "code",
   "execution_count": 28,
   "id": "97f104f8",
   "metadata": {},
   "outputs": [],
   "source": [
    "# Criando um dataset apenas com os TV Shows, pois as 10 linhas que serão modificadas pertencem apenas à essa categoria.\n",
    "df_tvshows = df.loc[(df['type'] == 'TV Show')]"
   ]
  },
  {
   "cell_type": "code",
   "execution_count": 29,
   "id": "8fe3f3a6",
   "metadata": {},
   "outputs": [
    {
     "data": {
      "text/plain": [
       "2020    595\n",
       "2019    592\n",
       "2021    505\n",
       "2018    412\n",
       "2017    349\n",
       "2016    176\n",
       "2015     26\n",
       "9999     10\n",
       "2014      5\n",
       "2013      5\n",
       "2008      1\n",
       "Name: year_added, dtype: int64"
      ]
     },
     "execution_count": 29,
     "metadata": {},
     "output_type": "execute_result"
    }
   ],
   "source": [
    "# Desta vez, o valor que mais aparece é 2020\n",
    "df_tvshows.year_added.value_counts()"
   ]
  },
  {
   "cell_type": "code",
   "execution_count": 30,
   "id": "94021ca4",
   "metadata": {},
   "outputs": [],
   "source": [
    "# Substituindo os valores 9999 pela moda.\n",
    "\n",
    "df['year_added'] = df['year_added'].replace(9999, 2020)"
   ]
  },
  {
   "cell_type": "code",
   "execution_count": 31,
   "id": "17b40f8c",
   "metadata": {},
   "outputs": [
    {
     "data": {
      "text/plain": [
       "2019    2016\n",
       "2020    1889\n",
       "2018    1649\n",
       "2021    1498\n",
       "2017    1188\n",
       "2016     429\n",
       "2015      82\n",
       "2014      24\n",
       "2011      13\n",
       "2013      11\n",
       "2012       3\n",
       "2009       2\n",
       "2008       2\n",
       "2010       1\n",
       "Name: year_added, dtype: int64"
      ]
     },
     "execution_count": 31,
     "metadata": {},
     "output_type": "execute_result"
    }
   ],
   "source": [
    "df.year_added.value_counts()"
   ]
  },
  {
   "cell_type": "code",
   "execution_count": 32,
   "id": "c94845f4",
   "metadata": {},
   "outputs": [
    {
     "data": {
      "text/plain": [
       "1     522\n",
       "15    228\n",
       "30     91\n",
       "31     88\n",
       "2      86\n",
       "22     80\n",
       "10     80\n",
       "20     80\n",
       "14     77\n",
       "19     75\n",
       "16     74\n",
       "8      72\n",
       "17     71\n",
       "6      69\n",
       "18     67\n",
       "27     66\n",
       "5      63\n",
       "7      63\n",
       "23     60\n",
       "21     60\n",
       "4      59\n",
       "12     59\n",
       "24     57\n",
       "25     57\n",
       "28     56\n",
       "26     54\n",
       "9      54\n",
       "13     53\n",
       "3      52\n",
       "11     49\n",
       "29     44\n",
       "99     10\n",
       "Name: day_added, dtype: int64"
      ]
     },
     "execution_count": 32,
     "metadata": {},
     "output_type": "execute_result"
    }
   ],
   "source": [
    "# Fazendo o mesmo com a coluna day_added\n",
    "\n",
    "df_tvshows.day_added.value_counts()"
   ]
  },
  {
   "cell_type": "code",
   "execution_count": 33,
   "id": "89abec97",
   "metadata": {},
   "outputs": [],
   "source": [
    "df['day_added'] = df['day_added'].replace(99,1)"
   ]
  },
  {
   "cell_type": "code",
   "execution_count": 34,
   "id": "b06a6b1e",
   "metadata": {},
   "outputs": [
    {
     "data": {
      "text/plain": [
       "1     2222\n",
       "15     687\n",
       "2      325\n",
       "16     289\n",
       "31     274\n",
       "20     249\n",
       "19     243\n",
       "5      231\n",
       "22     230\n",
       "10     214\n",
       "30     210\n",
       "6      210\n",
       "18     207\n",
       "26     206\n",
       "8      201\n",
       "14     198\n",
       "25     197\n",
       "27     195\n",
       "7      194\n",
       "21     193\n",
       "28     190\n",
       "23     184\n",
       "12     181\n",
       "17     180\n",
       "4      175\n",
       "13     175\n",
       "24     159\n",
       "3      151\n",
       "11     149\n",
       "9      147\n",
       "29     141\n",
       "Name: day_added, dtype: int64"
      ]
     },
     "execution_count": 34,
     "metadata": {},
     "output_type": "execute_result"
    }
   ],
   "source": [
    "df.day_added.value_counts()"
   ]
  },
  {
   "cell_type": "code",
   "execution_count": 45,
   "id": "ea5e5690",
   "metadata": {},
   "outputs": [
    {
     "data": {
      "image/png": "[encoded data removed]",
      "text/plain": [
       "<Figure size 576x432 with 1 Axes>"
      ]
     },
     "metadata": {
      "needs_background": "light"
     },
     "output_type": "display_data"
    }
   ],
   "source": [
    "df_tvshows = df.loc[(df['type'] == 'TV Show')]\n",
    "tvshow_data = df_tvshows.year_added.unique()\n",
    "tvshow_data.sort # modificando para ordem crescente\n",
    "tvshow_qtd = df_tvshows.year_added.value_counts().sort_index(ascending = False)\n",
    "\n",
    "\n",
    "\n",
    "plt.figure(figsize=[8,6])\n",
    "plt.bar(tvshow_data,tvshow_qtd, label='TV Shows', color = '#EE9F5A')\n",
    "plt.xlabel('Ano', fontsize=15)\n",
    "plt.ylabel('Quantidade', fontsize=15)\n",
    "plt.legend(loc = 'upper left', fontsize = 12)\n",
    "plt.savefig('imagens/bar_tvshowsVSyear.png')\n",
    "plt.show()"
   ]
  },
  {
   "cell_type": "code",
   "execution_count": 36,
   "id": "74526b55",
   "metadata": {},
   "outputs": [
    {
     "data": {
      "text/plain": [
       "2020    605\n",
       "2019    592\n",
       "2021    505\n",
       "2018    412\n",
       "2017    349\n",
       "2016    176\n",
       "2015     26\n",
       "2014      5\n",
       "2013      5\n",
       "2008      1\n",
       "Name: year_added, dtype: int64"
      ]
     },
     "execution_count": 36,
     "metadata": {},
     "output_type": "execute_result"
    }
   ],
   "source": [
    "df_tvshows.year_added.value_counts()"
   ]
  },
  {
   "cell_type": "markdown",
   "id": "e8d8b15d",
   "metadata": {},
   "source": [
    "# Exibindo os gráficos novamente"
   ]
  },
  {
   "cell_type": "code",
   "execution_count": 37,
   "id": "a9a9b54e",
   "metadata": {},
   "outputs": [
    {
     "data": {
      "image/png": "[encoded data removed]",
      "text/plain": [
       "<Figure size 576x432 with 1 Axes>"
      ]
     },
     "metadata": {
      "needs_background": "light"
     },
     "output_type": "display_data"
    }
   ],
   "source": [
    "# Exibindo novamente\n",
    "\n",
    "\n",
    "plt.figure(figsize=[8,6])\n",
    "plt.bar(movie_data,movie_qtd, label='Movies', color = '#45A1ED')\n",
    "plt.xlabel('Ano', fontsize=15)\n",
    "plt.ylabel('Quantidade', fontsize=15)\n",
    "plt.legend(loc = 'upper left', fontsize=12)\n",
    "plt.show()"
   ]
  },
  {
   "cell_type": "code",
   "execution_count": 38,
   "id": "cf7c9471",
   "metadata": {},
   "outputs": [
    {
     "data": {
      "image/png": "[encoded data removed]",
      "text/plain": [
       "<Figure size 648x576 with 1 Axes>"
      ]
     },
     "metadata": {},
     "output_type": "display_data"
    }
   ],
   "source": [
    "labels = 'Movies', 'TV Shows' \n",
    "movies = len(df.loc[(df['type'] == 'Movie')]) # Contagem dos valores totais de movies do dataset\n",
    "tvshows = len(df.loc[(df['type'] == 'TV Show')]) #  Contagem dos valores totais de tv shows do dataset\n",
    "sizes = [movies,tvshows] # lista com os 2 valores\n",
    "explode = (0, 0.1)  # quebra de fatia de 0.1 na segunda fatia(tvshows)\n",
    "\n",
    "\n",
    "fig1, ax1 = plt.subplots(figsize = [9,8])\n",
    "ax1.pie(sizes, explode=explode, labels=labels, autopct='%1.1f%%',\n",
    "        shadow=False, startangle=30, textprops={'fontsize': 15}) # autopct para mostrar o valor em % \n",
    "ax1.axis('equal')  # Ajusta a escala para que o circulo não se deforme : \n",
    "plt.show() # exibe o gráfico"
   ]
  },
  {
   "cell_type": "code",
   "execution_count": 39,
   "id": "74cda7f3",
   "metadata": {},
   "outputs": [],
   "source": [
    "# Salvando o dataframe\n",
    "df.to_csv('netflix_dfv4.csv', index = False)"
   ]
  },
  {
   "cell_type": "markdown",
   "id": "e51e2dfd",
   "metadata": {},
   "source": [
    "# Desta forma, podemos afirmar que:"
   ]
  },
  {
   "cell_type": "markdown",
   "id": "edc0b76e",
   "metadata": {},
   "source": [
    "<blockquote> A Quantidade de Filmes na plataforma representa 69.6% em relação ao total de séries, que representa 30.4%  </blockquote>\n",
    "<blockquote> 2016 à 2021 foi o período onde foram adicionados mais filmes na plataforma, sendo 2019 o ano de maior destaque </blockquote>\n",
    "<blockquote> 2020 Houve o maior número de adição de Séries na plataforma </blockquote>\n",
    "<blockquote> Nos Estados Unidos, foram lançados 2752 Filmes e 938 Séries, de um total de 6131 Filmes e 2676 Séries </blockquote>\n",
    "<blockquote> 869 Filmes estão listados na categoria Documentários  </blockquote>\n",
    "<blockquote> 458 Séries possuem 3 ou mais temporadas </blockquote>\n",
    "<blockquote> Martin Scorsese é o diretor que possui o maior número de minutos totais em filmes na plataforma (1731 minutos totais </blockquote>\n",
    "<blockquote> Phil Sgriccia é o diretor que possui o maior número de temporadas totais em séries na plataforma (15 temporadas) </blockquote>\n",
    "<blockquote> A série que mais possuí temporadas é Gray's Anatomy (17) </blockquote>\n",
    "<blockquote> Utilizando SQL e Python, podemos gerar ótimas análises para tomada de decisão </blockquote>"
   ]
  },
  {
   "cell_type": "markdown",
   "id": "44a5b672",
   "metadata": {},
   "source": [
    "<blockquote> Este é um projeto para demonstrar habilidades de análise com o objetivo de ingressar no mercado de trabalho como um analista Jr.</blockquote>\n",
    "\n",
    "<blockquote> Obrigado por ler até aqui 8)  .</blockquote>"
   ]
  },
  {
   "cell_type": "markdown",
   "id": "23180e21",
   "metadata": {},
   "source": [
    "> OBS: o Jupyter \" Correcao_Campos_Import_PowerBI \" segue com alterações para que os dados sejam levados ao power bi sem inconsistências "
   ]
  }
 ],
 "metadata": {
  "kernelspec": {
   "display_name": "Python 3 (ipykernel)",
   "language": "python",
   "name": "python3"
  },
  "language_info": {
   "codemirror_mode": {
    "name": "ipython",
    "version": 3
   },
   "file_extension": ".py",
   "mimetype": "text/x-python",
   "name": "python",
   "nbconvert_exporter": "python",
   "pygments_lexer": "ipython3",
   "version": "3.9.7"
  }
 },
 "nbformat": 4,
 "nbformat_minor": 5
}
